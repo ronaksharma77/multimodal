{
  "cells": [
    {
      "cell_type": "markdown",
      "id": "d5fcf1a8",
      "metadata": {},
      "source": [
        "# Multimodal Disaster Analysis using Social Media\n",
        "### Ronak Sharma\n",
        "\n"
      ]
    },
    {
      "cell_type": "markdown",
      "id": "0a2686a2",
      "metadata": {},
      "source": [
        "## Motivation\n",
        "Apart from the interesing topic of multimodal analysis, the key motivation is the use of social media. In general, often we observe that social media itself is portrayed as evil and posting on social media also remains suspectful considering privacy issue. With these aspects, it is also important for us to use social media and spread the word about good use and benefits of social media. One more aspect that makes it more useful is that it can be extended to any new issue that needs analysis like some disease spreading over any area like COVID-19."
      ]
    },
    {
      "cell_type": "markdown",
      "id": "ea44bfc8",
      "metadata": {},
      "source": [
        "## Connection to Past and Current Work in Multimodal Learning\n",
        "Multimodal learning uses information from different types of data: text, images, audio, location, and video. Earlier works often focused on unimodal pipelines (e.g., only text or only images), which delay decision-making. One example of that is disaster analysis through only images. The Earlier work involved combining satellite imagery and weather data for natural disaster detection (floods, hurricanes).  This Advances such as Word2Vec, CNNs, and YOLO, as well as topic modeling techniques like LDA, have allowed systems to analyze and interpret multiple data sources in parallel. These are the work done in current time.\n",
        "\n",
        "Multimodal approaches are now widely used in domains such as autonomous driving, medical diagnosis, and increasingly, in emergency response as these approaches are very effective in fighting with these issues."
      ]
    },
    {
      "attachments": {},
      "cell_type": "markdown",
      "id": "b8ef1d70-9f22-4494-958e-62ef17ca304e",
      "metadata": {},
      "source": [
        "## Learnings from This Work\n",
        "- Even social media is a good source for rich data collection if useful data is extracted using machine learning algorithms.\n",
        "- To get an expected output, we need to handle each part of the approach, from pre-processing of the text, feature extraction from images to topic mining to get a better view of situation. \n",
        "- Multimodal analysis of data provides faster and context-rich insights.\n",
        "- Text classification using Natural Language Processing(NLP) tools such as Bag-of-Words and Word2Vec enhances situational understanding.\n",
        "- Object detection using CNNs helps in analyzing infrastructure damage from images.\n",
        "- Topic modeling tools like can realizes real-time extraction of\n",
        "information on serious storm disasters from social media.\n",
        "- When we try to have a bird eye view of a disaster, it can be realized that no matter how complex the issue it, machine learning and data analysis can solve it by breaking it into few smaller, simpler but important problems.\n"
      ]
    },
    {
      "cell_type": "markdown",
      "id": "57f9d128",
      "metadata": {},
      "source": [
        "### Image Analysis (Conceptual)\n",
        "For image data, pre-trained CNNs (e.g., VGG-16, ResNet) or YOLO can be used to identify damaged structures or crowded zones during disasters. Example pipeline code:\n",
        "\n",
        "```python\n",
        "# i have put the code snippet only and no image files are attached\n",
        "from torchvision import models, transforms\n",
        "from PIL import Image\n",
        "import torch\n",
        "\n",
        "model = models.resnet50(pretrained=True)\n",
        "model.eval()\n",
        "\n",
        "# this scene image is assumed here\n",
        "img = Image.open('disaster_scene.jpg')\n",
        "transform = transforms.Compose([\n",
        "    transforms.Resize((224, 224)),\n",
        "    transforms.ToTensor()\n",
        "])\n",
        "img_t = transform(img).unsqueeze(0)\n",
        "\n",
        "output = model(img_t)\n",
        "```"
      ]
    },
    {
      "cell_type": "markdown",
      "id": "14174109",
      "metadata": {},
      "source": [
        "## Reflections\n",
        "**What surprised me?**\n",
        "- The richness of social media data. One post can have location, timestamp, image, and meaningful text.\n",
        "- Combining simple NLP models and basic CNNs is much more effective than i thought, the meaningful data extraction is so much critical in disaster management or in any other topic as well.\n",
        "- Recently, the form of people’s expression views on social media platforms had signifi-\n",
        "cantly changed and people prefer diverse expressions, such as text, images, and video, to\n",
        "help multimodal data contain richer information and more accurately describe the natural\n",
        "disaster situation which was not the case earlier as people used to criticized\n",
        "\n",
        "**Scope for improvement:**\n",
        "- To make people aware about it so that we get high quality relevant data.\n",
        "- Adding videos and images for data improvement.\n",
        "- Exploring the possibilities of integrating with IoT."
      ]
    },
    {
      "cell_type": "markdown",
      "id": "0ff591a7",
      "metadata": {},
      "source": [
        "## References\n",
        "- MDPI, 2022: *A Multimodal Data Analysis Approach to Social Media during\n",
        "Natural Disasters*\n",
        "- Basalamah, A.; Rahman S, 2022 : *An Optimized CNN Model Architecture for Detecting Coronavirus (COVID-19) with X-ray Images*"
      ]
    }
  ],
  "metadata": {
    "kernelspec": {
      "display_name": "Python (Pyodide)",
      "language": "python",
      "name": "python"
    },
    "language_info": {
      "codemirror_mode": {
        "name": "python",
        "version": 3
      },
      "file_extension": ".py",
      "mimetype": "text/x-python",
      "name": "python",
      "nbconvert_exporter": "python",
      "pygments_lexer": "ipython3",
      "version": "3.8"
    }
  },
  "nbformat": 4,
  "nbformat_minor": 5
}
